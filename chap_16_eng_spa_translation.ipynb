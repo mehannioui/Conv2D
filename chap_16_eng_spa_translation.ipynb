{
 "cells": [
  {
   "cell_type": "code",
   "execution_count": 3,
   "metadata": {},
   "outputs": [],
   "source": [
    "import tensorflow as tf\n",
    "from pathlib import Path\n",
    "\n",
    "url = \"https://storage.googleapis.com/download.tensorflow.org/data/spa-eng.zip\"\n",
    "path = tf.keras.utils.get_file(\"spa-eng.zip\", origin=url, extract=True)\n",
    "text = (Path(path).with_name(\"spa-eng\") / \"spa.txt\").read_text()"
   ]
  },
  {
   "cell_type": "code",
   "execution_count": 5,
   "metadata": {},
   "outputs": [
    {
     "name": "stdout",
     "output_type": "stream",
     "text": [
      "Go.\tVe.\n",
      "Go.\tVete.\n",
      "Go.\tVaya.\n",
      "Go.\tVáyase.\n",
      "Hi.\tHola.\n",
      "Run!\t¡Corre!\n",
      "Run.\tCorred.\n",
      "Who?\t¿Quién?\n",
      "Fire!\t¡Fuego!\n",
      "Fire!\t¡Incendio!\n",
      "Fire!\t¡Disparad!\n",
      "Help!\t¡Ayuda!\n",
      "Help!\t¡Socorro! ¡Auxilio!\n",
      "Help!\t¡Auxilio!\n",
      "Jump!\t¡Salta!\n",
      "Jump.\tSalte.\n",
      "Stop!\t¡Parad!\n",
      "Stop!\t¡Para!\n",
      "Stop!\t¡Pare!\n",
      "Wait!\t¡Espera!\n",
      "Wait.\tEsperen.\n",
      "Go on.\tContinúa.\n",
      "Go on.\tContinúe.\n",
      "Hello!\tHola.\n",
      "I ran.\tCorrí.\n",
      "I ran.\tCorría.\n",
      "I try.\tLo intento.\n",
      "I won!\t¡He ganado!\n",
      "Oh no!\t¡Oh, no!\n",
      "Relax.\tTomátelo con soda.\n",
      "Smile.\tSonríe.\n",
      "Attack!\t¡Al ataque!\n",
      "Attack!\t¡Atacad!\n",
      "Get up.\tLevanta.\n",
      "Go now.\tVe ahora mismo.\n",
      "Got it!\t¡Lo tengo!\n",
      "Got it?\t¿Lo pillas?\n",
      "Got it?\t¿Entendiste?\n",
      "He ran.\tÉl corrió.\n",
      "Hop in.\tMétete adentro.\n",
      "Hug me.\tAbrázame.\n",
      "I fell.\tMe caí.\n",
      "I know.\tYo lo sé.\n",
      "I left.\tSalí.\n",
      "I lied.\tMentí.\n",
      "I lost.\tPerdí.\n",
      "I quit.\tDimito.\n",
      "I quit.\tRenuncié.\n",
      "I work.\tEstoy trabajando.\n",
      "I'm 19.\tTengo diecinueve.\n",
      "I'm up.\tEstoy levantado.\n",
      "Listen.\tEscucha.\n",
      "Listen.\tEscuche.\n",
      "Listen.\tEscuchen.\n",
      "No way!\t¡No puede ser!\n",
      "No way!\tDe ninguna manera.\n",
      "No way!\t¡De ninguna manera!\n",
      "No way!\t¡Imposible!\n",
      "N\n"
     ]
    }
   ],
   "source": [
    "print(text[:1000])"
   ]
  }
 ],
 "metadata": {
  "kernelspec": {
   "display_name": "homl",
   "language": "python",
   "name": "python3"
  },
  "language_info": {
   "codemirror_mode": {
    "name": "ipython",
    "version": 3
   },
   "file_extension": ".py",
   "mimetype": "text/x-python",
   "name": "python",
   "nbconvert_exporter": "python",
   "pygments_lexer": "ipython3",
   "version": "3.9.6"
  }
 },
 "nbformat": 4,
 "nbformat_minor": 2
}
