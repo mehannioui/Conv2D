{
 "cells": [
  {
   "cell_type": "code",
   "execution_count": 2,
   "metadata": {},
   "outputs": [
    {
     "name": "stdout",
     "output_type": "stream",
     "text": [
      "Hello, world!\n"
     ]
    }
   ],
   "source": [
    "#This is a code cell in a Jupyter notebook\n",
    "print(\"Hello, world!\")"
   ]
  },
  {
   "cell_type": "code",
   "execution_count": 3,
   "metadata": {},
   "outputs": [
    {
     "name": "stderr",
     "output_type": "stream",
     "text": [
      "/Users/mehannioui/Documents/HOML/practice/homl/lib/python3.9/site-packages/urllib3/__init__.py:35: NotOpenSSLWarning: urllib3 v2 only supports OpenSSL 1.1.1+, currently the 'ssl' module is compiled with 'LibreSSL 2.8.3'. See: https://github.com/urllib3/urllib3/issues/3020\n",
      "  warnings.warn(\n"
     ]
    }
   ],
   "source": [
    "from sklearn.datasets import load_sample_images\n",
    "import tensorflow as tf\n",
    "\n",
    "images = load_sample_images().images\n",
    "images = tf.keras.layers.CenterCrop(height=70, width=120)(images)\n",
    "images = tf.keras.layers.Rescaling(scale=1/255)(images)"
   ]
  },
  {
   "cell_type": "code",
   "execution_count": 4,
   "metadata": {},
   "outputs": [
    {
     "data": {
      "text/plain": [
       "TensorShape([2, 70, 120, 3])"
      ]
     },
     "execution_count": 4,
     "metadata": {},
     "output_type": "execute_result"
    }
   ],
   "source": [
    "images.shape"
   ]
  },
  {
   "cell_type": "code",
   "execution_count": 5,
   "metadata": {},
   "outputs": [],
   "source": [
    "conv_layer = tf.keras.layers.Conv2D(filters=32, kernel_size=7, padding='same')\n",
    "fmaps = conv_layer(images)"
   ]
  },
  {
   "cell_type": "code",
   "execution_count": 6,
   "metadata": {},
   "outputs": [
    {
     "data": {
      "text/plain": [
       "TensorShape([2, 70, 120, 32])"
      ]
     },
     "execution_count": 6,
     "metadata": {},
     "output_type": "execute_result"
    }
   ],
   "source": [
    "fmaps.shape"
   ]
  },
  {
   "cell_type": "code",
   "execution_count": 7,
   "metadata": {},
   "outputs": [
    {
     "data": {
      "text/plain": [
       "(7, 7, 3, 32)"
      ]
     },
     "execution_count": 7,
     "metadata": {},
     "output_type": "execute_result"
    }
   ],
   "source": [
    "kernels, bianas = conv_layer.get_weights()\n",
    "kernels.shape"
   ]
  },
  {
   "cell_type": "code",
   "execution_count": 8,
   "metadata": {},
   "outputs": [
    {
     "data": {
      "text/plain": [
       "(32,)"
      ]
     },
     "execution_count": 8,
     "metadata": {},
     "output_type": "execute_result"
    }
   ],
   "source": [
    "bianas.shape"
   ]
  },
  {
   "cell_type": "code",
   "execution_count": 9,
   "metadata": {},
   "outputs": [],
   "source": [
    "maxpool2d = tf.keras.layers.MaxPool2D(pool_size=2)"
   ]
  },
  {
   "cell_type": "code",
   "execution_count": 10,
   "metadata": {},
   "outputs": [],
   "source": [
    "class DepthPool(tf.keras.layers.Layer):\n",
    "  def __init__(self, pool_size=2, **kwargs):\n",
    "    super().__init__(**kwargs)\n",
    "    self.pool_size = pool_size\n",
    "\n",
    "    def call(self, inputs):\n",
    "      shape = tf.shape(inputs) # shape[-1] is the number of channels\n",
    "      groups = shape[-1] // self.pool_size # number of channel groups\n",
    "      new_shape = tf.concat([shape[:-1], [groups, self.pool_size]], axis=0)\n",
    "      return tf.reduce_max(lambda X: tf.reshape(inputs, new_shape), axis=-1)"
   ]
  },
  {
   "cell_type": "code",
   "execution_count": 11,
   "metadata": {},
   "outputs": [],
   "source": [
    "global_avg_pool = tf.keras.layers.Lambda(\n",
    "  lambda X: tf.reduce_mean(X, axis=[1,2])\n",
    ")"
   ]
  },
  {
   "cell_type": "code",
   "execution_count": 12,
   "metadata": {},
   "outputs": [
    {
     "data": {
      "text/plain": [
       "<tf.Tensor: shape=(2, 3), dtype=float32, numpy=\n",
       "array([[0.64338624, 0.5971759 , 0.5824972 ],\n",
       "       [0.76306933, 0.2601113 , 0.10849128]], dtype=float32)>"
      ]
     },
     "execution_count": 12,
     "metadata": {},
     "output_type": "execute_result"
    }
   ],
   "source": [
    "global_avg_pool(images)"
   ]
  },
  {
   "cell_type": "code",
   "execution_count": 13,
   "metadata": {},
   "outputs": [],
   "source": [
    "from functools import partial\n",
    "\n",
    "DefaultConv2D = partial(tf.keras.layers.Conv2D, kernel_size=3,\n",
    "                      padding='same', activation='relu',\n",
    "                      kernel_initializer='he_normal')\n",
    "\n",
    "model = tf.keras.Sequential([\n",
    "  DefaultConv2D(filters=64, kernel_size=7, input_shape=[28, 28, 1]),\n",
    "  tf.keras.layers.MaxPool2D(),  \n",
    "  DefaultConv2D(filters=128),\n",
    "  DefaultConv2D(filters=128),\n",
    "  tf.keras.layers.MaxPool2D(),\n",
    "  DefaultConv2D(filters=256),\n",
    "  DefaultConv2D(filters=256),\n",
    "  tf.keras.layers.MaxPool2D(),\n",
    "  tf.keras.layers.Flatten(),\n",
    "  tf.keras.layers.Dense(units=128, activation='relu',\n",
    "                        kernel_initializer='he_normal'),\n",
    "  tf.keras.layers.Dropout(0.5),\n",
    "  tf.keras.layers.Dense(units=64, activation='relu',\n",
    "                        kernel_initializer='he_normal'),\n",
    "  tf.keras.layers.Dropout(0.5),\n",
    "  tf.keras.layers.Dense(units=10, activation='softmax')\n",
    "])\n"
   ]
  },
  {
   "cell_type": "code",
   "execution_count": 14,
   "metadata": {},
   "outputs": [],
   "source": [
    "# Implementing a ResNet-34 CNN Using Keras\n",
    "\n",
    "DefaultConv2D = partial(tf.keras.layers.Conv2D, kernel_size=3,\n",
    "                        strides = 1, padding=\"same\",\n",
    "                        kernel_initializer = \"he_normal\",\n",
    "                        use_bias=False)\n",
    "\n",
    "class ResidualUnit(tf.keras.layers.Layer):\n",
    "  def __init__(self, filters, strides=1, activation='relu', **kwargs):\n",
    "    super().__init__(**kwargs)\n",
    "    self.activation = tf.keras.activations.get(activation)\n",
    "    self.main_layers = [\n",
    "      DefaultConv2D(filters, strides=strides),\n",
    "      tf.keras.layers.BatchNormalization(),\n",
    "      self.activation,\n",
    "      DefaultConv2D(filters),\n",
    "      tf.keras.layers.BatchNormalization(),\n",
    "    ]\n",
    "    self.skip_layer = []\n",
    "    if strides > 1:\n",
    "      self.skip_layer = [\n",
    "        DefaultConv2D(filters, kernel_size=1, strides=strides),\n",
    "        tf.keras.layers.BatchNormalization()\n",
    "      ]\n",
    "  \n",
    "  def call(self, inputs):\n",
    "    Z = inputs\n",
    "    for layer in self.main_layers:\n",
    "      Z = layer(Z)\n",
    "    skip_Z = inputs\n",
    "    for layer in self.skip_layer:\n",
    "      skip_Z = layer(skip_Z)\n",
    "    return self.activation(Z + skip_Z)"
   ]
  },
  {
   "cell_type": "code",
   "execution_count": null,
   "metadata": {},
   "outputs": [],
   "source": [
    "# Building ResNet-34 using Sequential model\n",
    "model = tf.keras.Sequential([\n",
    "  DefaultConv2D(64, kernel_size=7, strides=2, input_shape=[224, 224, 3]),\n",
    "  tf.keras.layers.BatchNormalization(),\n",
    "  tf.keras.layers.Activation('relu'),\n",
    "  tf.keras.layers.MaxPool2D(pool_size=3, strides=2, padding='same'),\n",
    "])\n",
    "prev_filters = 64\n",
    "for filter in [64] * 3 + [128] * 4 + [256] * 6 + [512] * 3:\n",
    "  strides = 1 if filter == prev_filters else 2\n",
    "  model.add(ResidualUnit(filter, strides=strides))\n",
    "  prev_filters = filter\n",
    "\n",
    "model.add(tf.keras.layers.GlobalAvgPool2D())\n",
    "model.add(tf.keras.layers.Flatten())\n",
    "model.add(tf.keras.layers.Dense(10, activation='softmax'))"
   ]
  }
 ],
 "metadata": {
  "kernelspec": {
   "display_name": "Python 3",
   "language": "python",
   "name": "python3"
  },
  "language_info": {
   "codemirror_mode": {
    "name": "ipython",
    "version": 3
   },
   "file_extension": ".py",
   "mimetype": "text/x-python",
   "name": "python",
   "nbconvert_exporter": "python",
   "pygments_lexer": "ipython3",
   "version": "3.9.6"
  }
 },
 "nbformat": 4,
 "nbformat_minor": 2
}
